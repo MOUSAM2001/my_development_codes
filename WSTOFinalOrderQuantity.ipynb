{
 "cells": [
  {
   "cell_type": "markdown",
   "id": "7641ca74",
   "metadata": {},
   "source": [
    "# WSTOFinalOrderQuantity plugin\n",
    "\n",
    "input : \n",
    "Select ([Version].[Version Name] * [Item].[Item] * [Activity1].[Activity1] ) on row, \n",
    "({Measure.[PandoraSR Item Act1ToLoc Association]}) on column;\n",
    "\n",
    "transformation : \n",
    "get [Item].[Item] * [Activity1].[Activity1]  where if(Measure.[PandoraSR Item Act1ToLoc Association]==1)\n",
    "then Measure.[W STO Final Order Quantity] = 0.00000001\n",
    "\n",
    "output measure : Measure.[W STO Final Order Quantity]"
   ]
  },
  {
   "cell_type": "code",
   "execution_count": null,
   "id": "ea46ea72",
   "metadata": {},
   "outputs": [
    {
     "name": "stderr",
     "output_type": "stream",
     "text": [
      "WARNING: Using incubator modules: jdk.incubator.vector\n",
      "Using Spark's default log4j profile: org/apache/spark/log4j2-defaults.properties\n",
      "25/08/07 09:58:29 WARN Utils: Your hostname, codespaces-780a6a, resolves to a loopback address: 127.0.0.1; using 10.0.1.105 instead (on interface eth0)\n",
      "25/08/07 09:58:29 WARN Utils: Set SPARK_LOCAL_IP if you need to bind to another address\n",
      "Using Spark's default log4j profile: org/apache/spark/log4j2-defaults.properties\n",
      "Setting default log level to \"WARN\".\n",
      "To adjust logging level use sc.setLogLevel(newLevel). For SparkR, use setLogLevel(newLevel).\n",
      "25/08/07 09:58:30 WARN NativeCodeLoader: Unable to load native-hadoop library for your platform... using builtin-java classes where applicable\n"
     ]
    }
   ],
   "source": [
    "# create spark session and import necessary libraries\n",
    "from pyspark.sql import SparkSession\n",
    "from pyspark.sql.functions import concat, col,lit,date_format, lpad, weekofyear, year\n",
    "from pyspark.sql.types import IntegerType\n",
    "from pyspark.sql import functions as F\n",
    "\n",
    "spark = SparkSession.builder \\\n",
    "    .appName(\"Actual_To_SR_Actual\") \\\n",
    "    .getOrCreate()"
   ]
  },
  {
   "cell_type": "code",
   "execution_count": null,
   "id": "6eec8623",
   "metadata": {},
   "outputs": [],
   "source": [
    "from o9_common_utils.O9DataLake import O9DataLake \n",
    "import logging \n",
    "from pyspark.sql.functions import concat, col,lit\n",
    "from pyspark.sql.types import IntegerType\n",
    "from pyspark.sql import functions as F\n",
    "logger = logging.getLogger(\"o9_logger\") \n",
    "\n",
    "# o9datalake inputs\n",
    "\n",
    "input_PandoraSR_Item_Act1ToLoc_Association  = O9DataLake.get(\"input_PandoraSR_Item_Act1ToLoc_Association \") "
   ]
  },
  {
   "cell_type": "code",
   "execution_count": 4,
   "id": "e489332d",
   "metadata": {},
   "outputs": [
    {
     "name": "stderr",
     "output_type": "stream",
     "text": [
      "                                                                                \r"
     ]
    },
    {
     "name": "stdout",
     "output_type": "stream",
     "text": [
      "+----------------------+-----------+---------------------+------------------------------------+\n",
      "|Version.[Version Name]|Item.[Item]|Activity1.[Activity1]|PandoraSR Item Act1ToLoc Association|\n",
      "+----------------------+-----------+---------------------+------------------------------------+\n",
      "|    CurrentWorkingView|  792352C01| LANE_From_EDC_To_...|                                   1|\n",
      "|    CurrentWorkingView|  792352C01| LANE_From_EDC_To_...|                                   1|\n",
      "|    CurrentWorkingView|  792352C01| LANE_From_EDC_To_...|                                   1|\n",
      "|    CurrentWorkingView|  792352C01| LANE_From_EDC_To_...|                                   1|\n",
      "|    CurrentWorkingView|  792352C01| LANE_From_EDC_To_...|                                   1|\n",
      "+----------------------+-----------+---------------------+------------------------------------+\n",
      "only showing top 5 rows\n"
     ]
    }
   ],
   "source": [
    "#spark inputs\n",
    "spark.sparkContext.setLogLevel(\"ERROR\")\n",
    "input_PandoraSR_Item_Act1ToLoc_Association = spark.read.csv(\"/workspaces/my_development_codes/data/PandoraSR*.csv\", header=True, inferSchema=True)\n",
    "input_PandoraSR_Item_Act1ToLoc_Association.show(5)"
   ]
  },
  {
   "cell_type": "code",
   "execution_count": 19,
   "id": "13baeba5",
   "metadata": {},
   "outputs": [
    {
     "name": "stdout",
     "output_type": "stream",
     "text": [
      "+----------------------+-----------+---------------------+------------------------------------+\n",
      "|Version.[Version Name]|Item.[Item]|Activity1.[Activity1]|PandoraSR Item Act1ToLoc Association|\n",
      "+----------------------+-----------+---------------------+------------------------------------+\n",
      "|    CurrentWorkingView|  792352C01| LANE_From_EDC_To_...|                                   1|\n",
      "|    CurrentWorkingView|  792352C01| LANE_From_EDC_To_...|                                   1|\n",
      "|    CurrentWorkingView|  792352C01| LANE_From_EDC_To_...|                                   1|\n",
      "|    CurrentWorkingView|  792352C01| LANE_From_EDC_To_...|                                   1|\n",
      "|    CurrentWorkingView|  792352C01| LANE_From_EDC_To_...|                                   1|\n",
      "+----------------------+-----------+---------------------+------------------------------------+\n",
      "only showing top 5 rows\n",
      "+----------------------+-------------------+-----------+---------------------+-----------+---------------------+---------------------+--------------------------+\n",
      "|Version.[Version Name]|Location.[Location]|Item.[Item]|Activity1.[Activity1]|Time.[Week]|Activity2.[Activity2]|Activity3.[Activity3]|W STO Final Order Quantity|\n",
      "+----------------------+-------------------+-----------+---------------------+-----------+---------------------+---------------------+--------------------------+\n",
      "|    CurrentWorkingView|                EDC|  792352C01| LANE_From_EDC_To_...|   W32-2025|                TRUCK|            792352C01|                 0.0000001|\n",
      "|    CurrentWorkingView|                EDC|  792352C01| LANE_From_EDC_To_...|   W32-2025|                TRUCK|            792352C01|                 0.0000001|\n",
      "|    CurrentWorkingView|                EDC|  792352C01| LANE_From_EDC_To_...|   W32-2025|                TRUCK|            792352C01|                 0.0000001|\n",
      "|    CurrentWorkingView|                EDC|  792352C01| LANE_From_EDC_To_...|   W32-2025|                TRUCK|            792352C01|                 0.0000001|\n",
      "|    CurrentWorkingView|                EDC|  792352C01| LANE_From_EDC_To_...|   W32-2025|                TRUCK|            792352C01|                 0.0000001|\n",
      "+----------------------+-------------------+-----------+---------------------+-----------+---------------------+---------------------+--------------------------+\n",
      "only showing top 5 rows\n"
     ]
    }
   ],
   "source": [
    "# i want to filter the output where column PandoraSR Item Act1ToLoc Association = 1\n",
    "input_PandoraSR_Item_Act1ToLoc_Association = input_PandoraSR_Item_Act1ToLoc_Association.filter(\n",
    "    col(\"PandoraSR Item Act1ToLoc Association\") == 1\n",
    ")\n",
    "input_PandoraSR_Item_Act1ToLoc_Association.show(5)\n",
    "\n",
    "currentday = spark.range(1).selectExpr(\"current_date() as today\")\n",
    "currentweek = currentday.select(\n",
    "    concat(\n",
    "        lit(\"W\"),\n",
    "        lpad(weekofyear(\"today\").cast(\"string\"), 2, \"0\"),\n",
    "        lit(\"-\"),\n",
    "        year(\"today\").cast(\"string\")\n",
    "    ).alias(\"week_label\")\n",
    ")\n",
    "\n",
    "output_WSTOFinalOrderQuantity = input_PandoraSR_Item_Act1ToLoc_Association.select(\n",
    "    lit('CurrentWorkingView').alias(\"Version.[Version Name]\"),\n",
    "    lit('EDC').alias(\"Location.[Location]\"),col(\"`Item.[Item]`\"),col(\"`Activity1.[Activity1]`\"),\n",
    "    lit(currentweek.collect()[0][0]).alias(\"Time.[Week]\"),\n",
    "    lit('TRUCK').alias(\"Activity2.[Activity2]\"),col(\"`Item.[Item]`\").alias(\"Activity3.[Activity3]\"),\n",
    "    lit('0.0000001').alias(\"W STO Final Order Quantity\")\n",
    ")\n",
    "output_WSTOFinalOrderQuantity.show(5)"
   ]
  },
  {
   "cell_type": "code",
   "execution_count": null,
   "id": "c9a25e0c",
   "metadata": {},
   "outputs": [
    {
     "name": "stdout",
     "output_type": "stream",
     "text": [
      "+----------------------+-------------------+-----------+---------------------+-----------+---------------------+---------------------+--------------------------+\n",
      "|Version.[Version Name]|Location.[Location]|Item.[Item]|Activity1.[Activity1]|Time.[Week]|Activity2.[Activity2]|Activity3.[Activity3]|W STO Final Order Quantity|\n",
      "+----------------------+-------------------+-----------+---------------------+-----------+---------------------+---------------------+--------------------------+\n",
      "|    CurrentWorkingView|                EDC|  792352C01| LANE_From_EDC_To_...|   W32-2025|                TRUCK|            792352C01|                 0.0000001|\n",
      "|    CurrentWorkingView|                EDC|  792352C01| LANE_From_EDC_To_...|   W32-2025|                TRUCK|            792352C01|                 0.0000001|\n",
      "|    CurrentWorkingView|                EDC|  792352C01| LANE_From_EDC_To_...|   W32-2025|                TRUCK|            792352C01|                 0.0000001|\n",
      "|    CurrentWorkingView|                EDC|  792352C01| LANE_From_EDC_To_...|   W32-2025|                TRUCK|            792352C01|                 0.0000001|\n",
      "|    CurrentWorkingView|                EDC|  792352C01| LANE_From_EDC_To_...|   W32-2025|                TRUCK|            792352C01|                 0.0000001|\n",
      "+----------------------+-------------------+-----------+---------------------+-----------+---------------------+---------------------+--------------------------+\n",
      "only showing top 5 rows\n"
     ]
    }
   ],
   "source": [
    "\n",
    "\n",
    "\n"
   ]
  }
 ],
 "metadata": {
  "kernelspec": {
   "display_name": "Python 3",
   "language": "python",
   "name": "python3"
  },
  "language_info": {
   "codemirror_mode": {
    "name": "ipython",
    "version": 3
   },
   "file_extension": ".py",
   "mimetype": "text/x-python",
   "name": "python",
   "nbconvert_exporter": "python",
   "pygments_lexer": "ipython3",
   "version": "3.12.1"
  }
 },
 "nbformat": 4,
 "nbformat_minor": 5
}
