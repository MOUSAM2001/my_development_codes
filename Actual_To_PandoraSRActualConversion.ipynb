{
 "cells": [
  {
   "cell_type": "code",
   "execution_count": 2,
   "id": "4c306bfb",
   "metadata": {},
   "outputs": [
    {
     "name": "stderr",
     "output_type": "stream",
     "text": [
      "WARNING: Using incubator modules: jdk.incubator.vector\n",
      "Using Spark's default log4j profile: org/apache/spark/log4j2-defaults.properties\n",
      "25/07/25 09:03:07 WARN Utils: Your hostname, codespaces-780a6a, resolves to a loopback address: 127.0.0.1; using 10.0.2.244 instead (on interface eth0)\n",
      "25/07/25 09:03:07 WARN Utils: Set SPARK_LOCAL_IP if you need to bind to another address\n",
      "Using Spark's default log4j profile: org/apache/spark/log4j2-defaults.properties\n",
      "Setting default log level to \"WARN\".\n",
      "To adjust logging level use sc.setLogLevel(newLevel). For SparkR, use setLogLevel(newLevel).\n",
      "25/07/25 09:03:10 WARN NativeCodeLoader: Unable to load native-hadoop library for your platform... using builtin-java classes where applicable\n"
     ]
    }
   ],
   "source": [
    "# create spark session\n",
    "from pyspark.sql import SparkSession\n",
    "spark = SparkSession.builder \\\n",
    "    .appName(\"Actual_To_SR_Actual\") \\\n",
    "    .getOrCreate()"
   ]
  },
  {
   "cell_type": "code",
   "execution_count": 6,
   "id": "be84f3b3",
   "metadata": {},
   "outputs": [
    {
     "name": "stdout",
     "output_type": "stream",
     "text": [
      "+----------------------+-----------+--------------------+--------------------------+---------------+------------------------+-------------------+---------+-----------------------------+-----------+-----------------+------+\n",
      "|Version.[Version Name]|Item.[Item]|   Channel.[Channel]|Channel.[Planning Channel]|Region.[Region]|Region.[Planning Region]|Location.[Location]|PnL.[PnL]|Demand Domain.[Demand Domain]| Time.[Day]|Account.[Account]|Actual|\n",
      "+----------------------+-----------+--------------------+--------------------------+---------------+------------------------+-------------------+---------+-----------------------------+-----------+-----------------+------+\n",
      "|    CurrentWorkingView|  792352C01|Non O&O Concept S...|                   Non O&O|     RS10037680|                      RS|                All|      All|                          All|17-Jul-2023|              All|     2|\n",
      "|    CurrentWorkingView|  792352C01|Non O&O Concept S...|                   Non O&O|     RS10037680|                      RS|                All|      All|                          All|28-Dec-2023|              All|     2|\n",
      "|    CurrentWorkingView|  792352C01|Non O&O Concept S...|                   Non O&O|     RS10037680|                      RS|                All|      All|                          All|03-May-2024|              All|     2|\n",
      "|    CurrentWorkingView|  792352C01|Non O&O Concept S...|                   Non O&O|     RS10037680|                      RS|                All|      All|                          All|03-Jul-2024|              All|     2|\n",
      "|    CurrentWorkingView|  792352C01|Non O&O Concept S...|                   Non O&O|     RS10037680|                      RS|                All|      All|                          All|25-Jun-2025|              All|     1|\n",
      "|    CurrentWorkingView|  792352C01|Non O&O Concept S...|                   Non O&O|     RS10038840|                      RS|                All|      All|                          All|06-Mar-2024|              All|     2|\n",
      "|    CurrentWorkingView|  792352C01|Non O&O Concept S...|                   Non O&O|     RS10038840|                      RS|                All|      All|                          All|31-Dec-2024|              All|     2|\n",
      "|    CurrentWorkingView|  792352C01|Non O&O Concept S...|                   Non O&O|     RS10056829|                      RS|                All|      All|                          All|10-Dec-2022|              All|     2|\n",
      "|    CurrentWorkingView|  792352C01|Non O&O Concept S...|                   Non O&O|     RS10056829|                      RS|                All|      All|                          All|11-Jan-2023|              All|     2|\n",
      "|    CurrentWorkingView|  792352C01|Non O&O Concept S...|                   Non O&O|     RS10056829|                      RS|                All|      All|                          All|10-Jun-2023|              All|     2|\n",
      "|    CurrentWorkingView|  792352C01|Non O&O Concept S...|                   Non O&O|     RS10056829|                      RS|                All|      All|                          All|07-Jul-2023|              All|     2|\n",
      "|    CurrentWorkingView|  792352C01|Non O&O Concept S...|                   Non O&O|     RS10056829|                      RS|                All|      All|                          All|18-Aug-2023|              All|     2|\n",
      "|    CurrentWorkingView|  792352C01|Non O&O Concept S...|                   Non O&O|     RS10056829|                      RS|                All|      All|                          All|10-Oct-2023|              All|     2|\n",
      "|    CurrentWorkingView|  792352C01|Non O&O Concept S...|                   Non O&O|     RS10056829|                      RS|                All|      All|                          All|09-Feb-2024|              All|     2|\n",
      "|    CurrentWorkingView|  792352C01|Non O&O Concept S...|                   Non O&O|     RS10056829|                      RS|                All|      All|                          All|03-Dec-2024|              All|     2|\n",
      "|    CurrentWorkingView|  792352C01|Non O&O Concept S...|                   Non O&O|     RS10058163|                      RS|                All|      All|                          All|09-Jun-2023|              All|     2|\n",
      "|    CurrentWorkingView|  792352C01|Non O&O Concept S...|                   Non O&O|     RS10058163|                      RS|                All|      All|                          All|29-Feb-2024|              All|     2|\n",
      "|    CurrentWorkingView|  792352C01|Non O&O Concept S...|                   Non O&O|     RS10058163|                      RS|                All|      All|                          All|21-Jun-2025|              All|     1|\n",
      "|    CurrentWorkingView|  792352C01|Non O&O Concept S...|                   Non O&O|     SI10040308|                      SI|                All|      All|                          All|11-Nov-2022|              All|     2|\n",
      "|    CurrentWorkingView|  792352C01|Non O&O Concept S...|                   Non O&O|     SI10040308|                      SI|                All|      All|                          All|26-Nov-2022|              All|     2|\n",
      "+----------------------+-----------+--------------------+--------------------------+---------------+------------------------+-------------------+---------+-----------------------------+-----------+-----------------+------+\n",
      "only showing top 20 rows\n"
     ]
    }
   ],
   "source": [
    "actual = spark.read.csv(\"/workspaces/my_development_codes/notebooks/data_actual_pandorasractual/Actual.csv\", header=True, inferSchema=True)\n",
    "actual.show(20)\n"
   ]
  },
  {
   "cell_type": "code",
   "execution_count": 18,
   "id": "2441fbcb",
   "metadata": {},
   "outputs": [
    {
     "name": "stdout",
     "output_type": "stream",
     "text": [
      "+----------------------+--------------------------+---------------+----------------------+\n",
      "|Version.[Version Name]|Channel.[Planning Channel]|Region.[Region]|Store Ecom Association|\n",
      "+----------------------+--------------------------+---------------+----------------------+\n",
      "|    CurrentWorkingView|                O&O Online|     SK10060522|            SK10060522|\n",
      "|    CurrentWorkingView|                O&O Online|     RS10037680|                BEECOM|\n",
      "|    CurrentWorkingView|                O&O Online|     TR10058894|            TR10058894|\n",
      "|    CurrentWorkingView|                O&O Online|     CZ10058744|            CZ10058744|\n",
      "|    CurrentWorkingView|                O&O Online|     PL10036905|                BEECOM|\n",
      "+----------------------+--------------------------+---------------+----------------------+\n",
      "only showing top 5 rows\n"
     ]
    }
   ],
   "source": [
    "ecom = spark.read.csv(\"/workspaces/my_development_codes/notebooks/data_actual_pandorasractual/ecom_assoc.csv\", header=True, inferSchema=True)\n",
    "ecom.show(5)"
   ]
  },
  {
   "cell_type": "code",
   "execution_count": 19,
   "id": "0e754964",
   "metadata": {},
   "outputs": [
    {
     "name": "stdout",
     "output_type": "stream",
     "text": [
      "+------------------------+--------------------+----------------------+\n",
      "|Region.[Planning Region]|Region.[DisplayName]|Channel.[Stat Channel]|\n",
      "+------------------------+--------------------+----------------------+\n",
      "|                      OM|                Oman|               Non O&O|\n",
      "|                      OM|                Oman|          O&O Physical|\n",
      "|                      OM|                Oman|            O&O Online|\n",
      "|                      PL|              Poland|               Non O&O|\n",
      "|                      PL|              Poland|          O&O Physical|\n",
      "+------------------------+--------------------+----------------------+\n",
      "only showing top 5 rows\n"
     ]
    }
   ],
   "source": [
    "customer_group = spark.read.csv(\"/workspaces/my_development_codes/notebooks/data_actual_pandorasractual/region_statchannel.csv\", header=True, inferSchema=True)\n",
    "customer_group.show(5)"
   ]
  },
  {
   "cell_type": "code",
   "execution_count": 20,
   "id": "58b7f893",
   "metadata": {},
   "outputs": [
    {
     "name": "stdout",
     "output_type": "stream",
     "text": [
      "+------------------------+--------------------+----------------------+-------------------------------+\n",
      "|Region.[Planning Region]|Region.[DisplayName]|Channel.[Stat Channel]|[Sales Domain].[Customer Group]|\n",
      "+------------------------+--------------------+----------------------+-------------------------------+\n",
      "|                      OM|                Oman|               Non O&O|                   Oman_Non O&O|\n",
      "|                      OM|                Oman|          O&O Physical|              Oman_O&O Physical|\n",
      "|                      OM|                Oman|            O&O Online|                Oman_O&O Online|\n",
      "|                      PL|              Poland|               Non O&O|                 Poland_Non O&O|\n",
      "|                      PL|              Poland|          O&O Physical|            Poland_O&O Physical|\n",
      "+------------------------+--------------------+----------------------+-------------------------------+\n",
      "only showing top 5 rows\n"
     ]
    }
   ],
   "source": [
    "from pyspark.sql.functions import concat, col,lit\n",
    "from pyspark.sql import functions as F\n",
    "customer_group.withColumn(\"[Sales Domain].[Customer Group]\",concat(col(\"`Region.[DisplayName]`\"),lit(\"_\"),col(\"`Channel.[Stat Channel]`\"))).show(5)\n",
    "\n",
    "# fcst1 = fcst1.merge(ecom[[\"Region.[Region]\",\"Channel.[Planning Channel]\", \"Store Ecom Association\"]],how=\"left\",on=[\"Region.[Region]\",\"Channel.[Planning Channel]\"])\n",
    "# item*version*time*Activity1*location\n",
    "# O&O physical store, Region.Region->Activity1.To Location\n",
    "# O&O Online store, Region.Region->Store Ecom Ass mapped    \n",
    "# Select ([Version].[Version Name] * [Item].[Item] * [Location].[Location] * [Activity1].[Activity1] * [Time].[Week] ) on row, ({Measure.[PandoraSR W Actuals]}) on column;"
   ]
  },
  {
   "cell_type": "code",
   "execution_count": null,
   "id": "5cc911e9",
   "metadata": {},
   "outputs": [
    {
     "name": "stdout",
     "output_type": "stream",
     "text": [
      "+----------------------+-----------+--------------------+--------------------------+---------------+------------------------+-------------------+---------+-----------------------------+-----------+-----------------+------+\n",
      "|Version.[Version Name]|Item.[Item]|   Channel.[Channel]|Channel.[Planning Channel]|Region.[Region]|Region.[Planning Region]|Location.[Location]|PnL.[PnL]|Demand Domain.[Demand Domain]| Time.[Day]|Account.[Account]|Actual|\n",
      "+----------------------+-----------+--------------------+--------------------------+---------------+------------------------+-------------------+---------+-----------------------------+-----------+-----------------+------+\n",
      "|    CurrentWorkingView|  792352C01|Non O&O Concept S...|                   Non O&O|         BEECOM|                      RS|                All|      All|                          All|17-Jul-2023|              All|     2|\n",
      "|    CurrentWorkingView|  792352C01|Non O&O Concept S...|                   Non O&O|         BEECOM|                      RS|                All|      All|                          All|28-Dec-2023|              All|     2|\n",
      "|    CurrentWorkingView|  792352C01|Non O&O Concept S...|                   Non O&O|         BEECOM|                      RS|                All|      All|                          All|03-May-2024|              All|     2|\n",
      "|    CurrentWorkingView|  792352C01|Non O&O Concept S...|                   Non O&O|         BEECOM|                      RS|                All|      All|                          All|03-Jul-2024|              All|     2|\n",
      "|    CurrentWorkingView|  792352C01|Non O&O Concept S...|                   Non O&O|         BEECOM|                      RS|                All|      All|                          All|25-Jun-2025|              All|     1|\n",
      "|    CurrentWorkingView|  792352C01|Non O&O Concept S...|                   Non O&O|     RS10038840|                      RS|                All|      All|                          All|06-Mar-2024|              All|     2|\n",
      "|    CurrentWorkingView|  792352C01|Non O&O Concept S...|                   Non O&O|     RS10038840|                      RS|                All|      All|                          All|31-Dec-2024|              All|     2|\n",
      "|    CurrentWorkingView|  792352C01|Non O&O Concept S...|                   Non O&O|     RS10056829|                      RS|                All|      All|                          All|10-Dec-2022|              All|     2|\n",
      "|    CurrentWorkingView|  792352C01|Non O&O Concept S...|                   Non O&O|     RS10056829|                      RS|                All|      All|                          All|11-Jan-2023|              All|     2|\n",
      "|    CurrentWorkingView|  792352C01|Non O&O Concept S...|                   Non O&O|     RS10056829|                      RS|                All|      All|                          All|10-Jun-2023|              All|     2|\n",
      "+----------------------+-----------+--------------------+--------------------------+---------------+------------------------+-------------------+---------+-----------------------------+-----------+-----------------+------+\n",
      "only showing top 10 rows\n"
     ]
    }
   ],
   "source": [
    "# there are 2 dataframes , ecom and actual , you have to bring the Store Ecom Association from the ecom and put into actual\n",
    "\n",
    "# Step 1: Filter for O&O Online and select relevant columns from ecom\n",
    "ecom_filtered = ecom.filter(F.col(\"`Channel.[Planning Channel]`\") == \"O&O Online\") \\\n",
    "                   .select(F.col(\"`Region.[Region]`\").alias(\"region_key\"), \"Store Ecom Association\")\n",
    "\n",
    "\n",
    "# step 2 : left join with actual on region.region with ecom wherever a match\n",
    "\n",
    "# drop \"Non O&O\" values from Channel.Planning Channel\n",
    "actual = actual.filter(actual[\"`Channel.[Planning Channel]`\"] != \"Non O&O\")\n",
    "\n",
    "joined_df = actual.alias(\"a\").join(\n",
    "    ecom_filtered.alias(\"e\"),\n",
    "    on=F.col(\"a.`Region.[Region]`\") == F.col(\"e.region_key\"), # Join condition using aliases\n",
    "    how=\"left\"\n",
    ").withColumn(\"Region.[Region]\",\n",
    "    F.when(F.col(\"e.Store Ecom Association\").isNotNull(), F.col(\"e.Store Ecom Association\"))\n",
    "    .otherwise(F.col(\"a.`Region.[Region]`\"))\n",
    ").drop(F.col(\"e.region_key\"), \"Store Ecom Association\")\n",
    "\n",
    "\n",
    "joined_df.show(10)\n",
    "\n"
   ]
  },
  {
   "cell_type": "code",
   "execution_count": null,
   "id": "4ed73908",
   "metadata": {},
   "outputs": [],
   "source": [
    "\n"
   ]
  }
 ],
 "metadata": {
  "kernelspec": {
   "display_name": "Python 3",
   "language": "python",
   "name": "python3"
  },
  "language_info": {
   "codemirror_mode": {
    "name": "ipython",
    "version": 3
   },
   "file_extension": ".py",
   "mimetype": "text/x-python",
   "name": "python",
   "nbconvert_exporter": "python",
   "pygments_lexer": "ipython3",
   "version": "3.12.1"
  }
 },
 "nbformat": 4,
 "nbformat_minor": 5
}
