{
 "cells": [
  {
   "cell_type": "markdown",
   "id": "4641d837",
   "metadata": {},
   "source": [
    "Input1; \n",
    "Select ([Version].[Version Name] * [Item].[Item] * [Channel].[Channel] *[Channel].[Planning Channel]* [Region].[Region] *[Region].[Planning Region] * [Location].[Location] * [PnL].[PnL] * [Demand Domain].[Demand Domain] * [Time].[Day]*[Time].[Week]* [Account].[Account] ) on row, \n",
    "({Measure.[Actual]}) on column;\n",
    "Input2;\n",
    "Select ([Version].[Version Name] * [Channel].[Planning Channel] * [Region].[Region] ) on row,  ({Measure.[Store Ecom Association]}) on column;\n",
    "Input3; \n",
    "select (Region.[Planning Region] * Channel.[Stat Channel]) on row, () on column include memberproperties{Region.[Planning Region],DisplayName};\n",
    " \n",
    "Output measure;\n",
    "PandoraSR W Actuals\n",
    " \n",
    "Select ([Version].[Version Name] * [Item].[Item] * [Location].[Location] * [Activity1].[Activity1] * [Time].[Week] ) on row, \n",
    "({Measure.[PandoraSR W Actuals]}) on column;"
   ]
  },
  {
   "cell_type": "code",
   "execution_count": null,
   "id": "0e754964",
   "metadata": {},
   "outputs": [
    {
     "name": "stdout",
     "output_type": "stream",
     "text": [
      "+------------------------+--------------------+----------------------+\n",
      "|Region.[Planning Region]|Region.[DisplayName]|Channel.[Stat Channel]|\n",
      "+------------------------+--------------------+----------------------+\n",
      "|                      OM|                Oman|               Non O&O|\n",
      "|                      OM|                Oman|          O&O Physical|\n",
      "|                      OM|                Oman|            O&O Online|\n",
      "|                      PL|              Poland|               Non O&O|\n",
      "|                      PL|              Poland|          O&O Physical|\n",
      "+------------------------+--------------------+----------------------+\n",
      "only showing top 5 rows\n"
     ]
    }
   ],
   "source": [
    "# just for reference , if in future it will require\n",
    "\n",
    "customer_group = spark.read.csv(\"/workspaces/my_development_codes/notebooks/data_actual_pandorasractual/region_statchannel.csv\", header=True, inferSchema=True)\n",
    "customer_group.show(5)\n",
    "customer_group.withColumn(\"[Sales Domain].[Customer Group]\",concat(col(\"`Region.[DisplayName]`\"),lit(\"_\"),col(\"`Channel.[Stat Channel]`\"))).show(5)"
   ]
  },
  {
   "cell_type": "markdown",
   "id": "c38a5ade",
   "metadata": {},
   "source": [
    "## Plugin Creation Started"
   ]
  },
  {
   "cell_type": "code",
   "execution_count": null,
   "id": "f4c43369",
   "metadata": {},
   "outputs": [
    {
     "name": "stderr",
     "output_type": "stream",
     "text": [
      "WARNING: Using incubator modules: jdk.incubator.vector\n",
      "Using Spark's default log4j profile: org/apache/spark/log4j2-defaults.properties\n",
      "25/07/30 09:54:02 WARN Utils: Your hostname, codespaces-780a6a, resolves to a loopback address: 127.0.0.1; using 10.0.2.183 instead (on interface eth0)\n",
      "25/07/30 09:54:02 WARN Utils: Set SPARK_LOCAL_IP if you need to bind to another address\n",
      "Using Spark's default log4j profile: org/apache/spark/log4j2-defaults.properties\n",
      "Setting default log level to \"WARN\".\n",
      "To adjust logging level use sc.setLogLevel(newLevel). For SparkR, use setLogLevel(newLevel).\n",
      "25/07/30 09:54:03 WARN NativeCodeLoader: Unable to load native-hadoop library for your platform... using builtin-java classes where applicable\n"
     ]
    }
   ],
   "source": [
    "# create spark session and import necessary libraries\n",
    "from pyspark.sql import SparkSession\n",
    "from pyspark.sql.functions import concat, col,lit\n",
    "from pyspark.sql.types import IntegerType\n",
    "from pyspark.sql import functions as F\n",
    "\n",
    "spark = SparkSession.builder \\\n",
    "    .appName(\"Actual_To_SR_Actual\") \\\n",
    "    .getOrCreate()"
   ]
  },
  {
   "cell_type": "code",
   "execution_count": null,
   "id": "e2c5d4aa",
   "metadata": {},
   "outputs": [],
   "source": [
    "from o9_common_utils.O9DataLake import O9DataLake \n",
    "import logging \n",
    "from pyspark.sql.functions import concat, col,lit\n",
    "from pyspark.sql.types import IntegerType\n",
    "from pyspark.sql import functions as F\n",
    "logger = logging.getLogger(\"o9_logger\") \n",
    "\n",
    "# o9datalake inputs\n",
    "\n",
    "actual = O9DataLake.get(\"actual\") \n",
    "\n",
    "ecom = O9DataLake.get(\"ecom\") "
   ]
  },
  {
   "cell_type": "code",
   "execution_count": 2,
   "id": "45b98991",
   "metadata": {},
   "outputs": [
    {
     "name": "stdout",
     "output_type": "stream",
     "text": [
      "+----------------------+--------------------------+---------------+----------------------+\n",
      "|Version.[Version Name]|Channel.[Planning Channel]|Region.[Region]|Store Ecom Association|\n",
      "+----------------------+--------------------------+---------------+----------------------+\n",
      "|    CurrentWorkingView|                O&O Online|     SK10060522|            SK10060522|\n",
      "|    CurrentWorkingView|                O&O Online|     RS10037680|                BEECOM|\n",
      "+----------------------+--------------------------+---------------+----------------------+\n",
      "only showing top 2 rows\n"
     ]
    },
    {
     "name": "stderr",
     "output_type": "stream",
     "text": [
      "[Stage 4:==============>                                            (1 + 3) / 4]\r"
     ]
    },
    {
     "name": "stdout",
     "output_type": "stream",
     "text": [
      "+----------------------+-----------+--------------------+--------------------------+---------------+------------------------+-------------------+---------+-----------------------------+-----------+-----------+-----------------+------+\n",
      "|Version.[Version Name]|Item.[Item]|   Channel.[Channel]|Channel.[Planning Channel]|Region.[Region]|Region.[Planning Region]|Location.[Location]|PnL.[PnL]|Demand Domain.[Demand Domain]| Time.[Day]|Time.[Week]|Account.[Account]|Actual|\n",
      "+----------------------+-----------+--------------------+--------------------------+---------------+------------------------+-------------------+---------+-----------------------------+-----------+-----------+-----------------+------+\n",
      "|    CurrentWorkingView|  792352C01|Non O&O Concept S...|                   Non O&O|     RS10037680|                      RS|                All|      All|                          All|17-Jul-2023|   W29-2023|              All|     1|\n",
      "|    CurrentWorkingView|  792352C01|Non O&O Concept S...|                   Non O&O|     RS10037680|                      RS|                All|      All|                          All|28-Dec-2023|   W52-2023|              All|     1|\n",
      "+----------------------+-----------+--------------------+--------------------------+---------------+------------------------+-------------------+---------+-----------------------------+-----------+-----------+-----------------+------+\n",
      "only showing top 2 rows\n"
     ]
    },
    {
     "name": "stderr",
     "output_type": "stream",
     "text": [
      "                                                                                \r"
     ]
    }
   ],
   "source": [
    "#spark inputs\n",
    "ecom = spark.read.csv(\"/workspaces/my_development_codes/notebooks/data_actual_pandorasractual/ecom_assoc.csv\", header=True, inferSchema=True)\n",
    "ecom.show(2)\n",
    "\n",
    "actual = spark.read.csv(\"/workspaces/my_development_codes/notebooks/data_actual_pandorasractual/actual_top_3lac.csv\", header=True, inferSchema=True)\n",
    "actual.show(2)"
   ]
  },
  {
   "cell_type": "code",
   "execution_count": 8,
   "id": "e84f76ea",
   "metadata": {},
   "outputs": [
    {
     "name": "stdout",
     "output_type": "stream",
     "text": [
      "+----------------------+-----------+---------------+--------------------------+-----------+------+\n",
      "|Version.[Version Name]|Item.[Item]|Region.[Region]|Channel.[Planning Channel]|Time.[Week]|Actual|\n",
      "+----------------------+-----------+---------------+--------------------------+-----------+------+\n",
      "|    CurrentWorkingView|  792352C01|     RO10052426|              O&O Physical|   W45-2023|     1|\n",
      "|    CurrentWorkingView|  792352C01|     PL00000040|              O&O Physical|   W10-2025|     1|\n",
      "|    CurrentWorkingView|  792352C01|     AE10053263|              O&O Physical|   W05-2025|     3|\n",
      "|    CurrentWorkingView|  792352C01|     CZ10059300|              O&O Physical|   W45-2023|     1|\n",
      "|    CurrentWorkingView|  792352C01|     IT10053367|              O&O Physical|   W09-2023|     1|\n",
      "|    CurrentWorkingView|  792352C01|     HU10053365|              O&O Physical|   W43-2023|     1|\n",
      "|    CurrentWorkingView|  792352C01|     HU10053684|              O&O Physical|   W21-2024|     1|\n",
      "|    CurrentWorkingView|  792352C01|     IT10045137|              O&O Physical|   W27-2024|     1|\n",
      "|    CurrentWorkingView|  792352C01|     IT10056465|              O&O Physical|   W13-2023|     1|\n",
      "|    CurrentWorkingView|  793125C12|     RO10038815|              O&O Physical|   W33-2024|     1|\n",
      "+----------------------+-----------+---------------+--------------------------+-----------+------+\n",
      "only showing top 10 rows\n",
      "+----------------------+-----------+-----------------------+--------------------------+-----------+------+-------------------+---------------------------------------+\n",
      "|Version.[Version Name]|Item.[Item]|Activity1.[To Location]|Channel.[Planning Channel]|Time.[Week]|Actual|Location.[Location]|Activity1.[Activity1]                  |\n",
      "+----------------------+-----------+-----------------------+--------------------------+-----------+------+-------------------+---------------------------------------+\n",
      "|CurrentWorkingView    |792352C01  |RO10052426             |O&O Physical              |W45-2023   |1     |EDC                |LANE_From_EDC_To_RO10052426_Using_TRUCK|\n",
      "|CurrentWorkingView    |792352C01  |PL00000040             |O&O Physical              |W10-2025   |1     |EDC                |LANE_From_EDC_To_PL00000040_Using_TRUCK|\n",
      "+----------------------+-----------+-----------------------+--------------------------+-----------+------+-------------------+---------------------------------------+\n",
      "only showing top 2 rows\n",
      "+----------------------+-----------+---------------------+-------------------+-----------+-------------------+\n",
      "|Version.[Version Name]|Item.[Item]|Activity1.[Activity1]|Location.[Location]|Time.[Week]|PandoraSR W Actuals|\n",
      "+----------------------+-----------+---------------------+-------------------+-----------+-------------------+\n",
      "|    CurrentWorkingView|  792352C01| LANE_From_EDC_To_...|                EDC|   W45-2023|                  1|\n",
      "|    CurrentWorkingView|  792352C01| LANE_From_EDC_To_...|                EDC|   W10-2025|                  1|\n",
      "|    CurrentWorkingView|  792352C01| LANE_From_EDC_To_...|                EDC|   W05-2025|                  3|\n",
      "|    CurrentWorkingView|  792352C01| LANE_From_EDC_To_...|                EDC|   W45-2023|                  1|\n",
      "|    CurrentWorkingView|  792352C01| LANE_From_EDC_To_...|                EDC|   W09-2023|                  1|\n",
      "+----------------------+-----------+---------------------+-------------------+-----------+-------------------+\n",
      "only showing top 5 rows\n"
     ]
    }
   ],
   "source": [
    "# there are 2 dataframes , ecom and actual , you have to bring the Store Ecom Association from the ecom and put into actual\n",
    "\n",
    "# Step 1: Filter for O&O Online and select relevant columns from ecom\n",
    "ecom_filtered = ecom.filter(F.col(\"`Channel.[Planning Channel]`\") == \"O&O Online\") \\\n",
    "                   .select(F.col(\"`Region.[Region]`\").alias(\"region_key\"), \"Store Ecom Association\")\n",
    "\n",
    "# drop \"Non O&O\" records from Channel.Planning Channel and group by\n",
    "actual_grouped = actual.filter(actual[\"`Channel.[Planning Channel]`\"] != \"Non O&O\") \\\n",
    "                      .groupBy(\"`Version.[Version Name]`\",\"`Item.[Item]`\",\"`Region.[Region]`\",\"`Channel.[Planning Channel]`\",\"`Time.[Week]`\") \\\n",
    "                      .agg(F.sum(\"Actual\").alias(\"Actual\"))\n",
    "actual_grouped.show(10)\n",
    "\n",
    "# Step 3: Perform the left join and getting store ecom association for O&O Online\n",
    "joined_df1 = actual_grouped.alias(\"a\").join(\n",
    "    ecom_filtered.alias(\"e\"),\n",
    "    on=F.col(\"a.`Region.[Region]`\") == F.col(\"e.region_key\"),\n",
    "    how=\"left\"\n",
    ").withColumn(\"Region.[Region]\",\n",
    "    F.when(F.col(\"e.Store Ecom Association\").isNotNull(), F.col(\"e.Store Ecom Association\"))\n",
    "    .otherwise(F.col(\"a.`Region.[Region]`\"))\n",
    ").drop(F.col(\"e.region_key\"), \"Store Ecom Association\") \\\n",
    " .withColumn(\"Location.[Location]\", F.lit(\"EDC\")) \\\n",
    " .withColumnRenamed(\"Region.[Region]\", \"Activity1.[To Location]\")\\\n",
    " .withColumn(\"Activity1.[Activity1]\",\n",
    "    F.concat(F.lit(\"LANE_From_\"), F.col(\"`Location.[Location]`\"), F.lit(\"_To_\"), F.col(\"`Activity1.[To Location]`\"),F.lit(\"_Using_TRUCK\"))\n",
    ")\n",
    "\n",
    "joined_df1.show(2,truncate=False)\n",
    "\n",
    "output_PandoraSRWActuals = joined_df1.select(\n",
    "    col(\"`Version.[Version Name]`\"),\n",
    "    col(\"`Item.[Item]`\"),\n",
    "    col(\"`Activity1.[Activity1]`\"),\n",
    "    col(\"`Location.[Location]`\"),\n",
    "    col(\"`Time.[Week]`\"),\n",
    "    col(\"Actual\").cast(IntegerType()).alias(\"PandoraSR W Actuals\"))\n",
    "\n",
    "output_PandoraSRWActuals.show(5)\n"
   ]
  },
  {
   "cell_type": "code",
   "execution_count": null,
   "id": "29675abe",
   "metadata": {},
   "outputs": [
    {
     "name": "stdout",
     "output_type": "stream",
     "text": [
      "+----------------------+-----------+-----------------------+--------------------------+-----------+------+-------------------+---------------------+\n",
      "|Version.[Version Name]|Item.[Item]|Activity1.[To Location]|Channel.[Planning Channel]|Time.[Week]|Actual|Location.[Location]|Activity1.[Activity1]|\n",
      "+----------------------+-----------+-----------------------+--------------------------+-----------+------+-------------------+---------------------+\n",
      "|    CurrentWorkingView|  792352C01|             RO10052426|              O&O Physical|   W45-2023|     1|                EDC| LANE_From_EDC_To_...|\n",
      "|    CurrentWorkingView|  792352C01|             PL00000040|              O&O Physical|   W10-2025|     1|                EDC| LANE_From_EDC_To_...|\n",
      "+----------------------+-----------+-----------------------+--------------------------+-----------+------+-------------------+---------------------+\n",
      "only showing top 2 rows\n",
      "+----------------------+-----------+---------------------+-------------------+-----------+-------------------+\n",
      "|Version.[Version Name]|Item.[Item]|Activity1.[Activity1]|Location.[Location]|Time.[Week]|PandoraSR W Actuals|\n",
      "+----------------------+-----------+---------------------+-------------------+-----------+-------------------+\n",
      "|    CurrentWorkingView|  792352C01| LANE_From_EDC_To_...|                EDC|   W45-2023|                  1|\n",
      "|    CurrentWorkingView|  792352C01| LANE_From_EDC_To_...|                EDC|   W10-2025|                  1|\n",
      "|    CurrentWorkingView|  792352C01| LANE_From_EDC_To_...|                EDC|   W05-2025|                  3|\n",
      "|    CurrentWorkingView|  792352C01| LANE_From_EDC_To_...|                EDC|   W45-2023|                  1|\n",
      "|    CurrentWorkingView|  792352C01| LANE_From_EDC_To_...|                EDC|   W09-2023|                  1|\n",
      "+----------------------+-----------+---------------------+-------------------+-----------+-------------------+\n",
      "only showing top 5 rows\n"
     ]
    }
   ],
   "source": [
    "# write to o9datalake\n",
    "O9DataLake.put(\"output_PandoraSRWActuals\", output_PandoraSRWActuals) \n"
   ]
  }
 ],
 "metadata": {
  "kernelspec": {
   "display_name": "Python 3",
   "language": "python",
   "name": "python3"
  },
  "language_info": {
   "codemirror_mode": {
    "name": "ipython",
    "version": 3
   },
   "file_extension": ".py",
   "mimetype": "text/x-python",
   "name": "python",
   "nbconvert_exporter": "python",
   "pygments_lexer": "ipython3",
   "version": "3.12.1"
  }
 },
 "nbformat": 4,
 "nbformat_minor": 5
}
