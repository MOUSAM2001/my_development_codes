{
 "cells": [
  {
   "cell_type": "code",
   "execution_count": null,
   "id": "846fbc02",
   "metadata": {},
   "outputs": [
    {
     "name": "stdout",
     "output_type": "stream",
     "text": [
      "UTC Time: 2025-08-01 08:59:55 \n",
      "CET/CEST Time: 2025-08-01 10:59:55 CEST+0200\n"
     ]
    },
    {
     "name": "stderr",
     "output_type": "stream",
     "text": [
      "/tmp/ipykernel_3779/4143758933.py:16: DeprecationWarning: datetime.datetime.utcnow() is deprecated and scheduled for removal in a future version. Use timezone-aware objects to represent datetimes in UTC: datetime.datetime.now(datetime.UTC).\n",
      "  utc_now = datetime.utcnow()\n"
     ]
    }
   ],
   "source": [
    "# for python version >= 3.9\n",
    "\n",
    "from datetime import datetime\n",
    "from zoneinfo import ZoneInfo\n",
    "\n",
    "def convert_utc_to_cet_zoneinfo(utc_dt):\n",
    "    \"\"\"\n",
    "    Converts a UTC datetime to CET/CEST using zoneinfo.\n",
    "    \"\"\"\n",
    "    if utc_dt.tzinfo is None:\n",
    "        utc_dt = utc_dt.replace(tzinfo=ZoneInfo(\"UTC\"))\n",
    "    return utc_dt.astimezone(ZoneInfo(\"Europe/Paris\"))\n",
    "\n",
    "# Example\n",
    "utc_now = datetime.now(ZoneInfo(\"UTC\"))\n",
    "cet_time = convert_utc_to_cet_zoneinfo(utc_now)\n",
    "\n",
    "print(\"UTC Time:\", utc_now.strftime('%Y-%m-%d %H:%M:%S %Z%z'))\n",
    "print(\"CET/CEST Time:\", cet_time.strftime('%Y-%m-%d %H:%M:%S %Z%z'))"
   ]
  },
  {
   "cell_type": "code",
   "execution_count": null,
   "id": "017df892",
   "metadata": {},
   "outputs": [],
   "source": [
    "# Alternative approach with explicit timezone handling (editable version)\n",
    "\n",
    "from datetime import datetime\n",
    "from zoneinfo import ZoneInfo\n",
    "\n",
    "def convert_utc_to_cet_explicit(year, month, day, hour, minute, second=0):\n",
    "    \"\"\"\n",
    "    Creates a UTC datetime and converts it to CET/CEST.\n",
    "    \"\"\"\n",
    "    utc_dt = datetime(year, month, day, hour, minute, second, tzinfo=ZoneInfo(\"UTC\"))\n",
    "    return utc_dt.astimezone(ZoneInfo(\"Europe/Paris\"))\n",
    "\n",
    "# Example with specific datetime\n",
    "cet_time = convert_utc_to_cet_explicit(2025, 8, 1, 12, 30, 0)\n",
    "print(\"Original UTC:\", cet_time.astimezone(ZoneInfo(\"UTC\")).strftime('%Y-%m-%d %H:%M:%S %Z%z'))\n",
    "print(\"Converted CET/CEST:\", cet_time.strftime('%Y-%m-%d %H:%M:%S %Z%z'))\n",
    "\n",
    "# Test with different times to see CET vs CEST\n",
    "winter_time = convert_utc_to_cet_explicit(2025, 1, 15, 12, 0, 0)  # Winter (CET)\n",
    "summer_time = convert_utc_to_cet_explicit(2025, 7, 15, 12, 0, 0)  # Summer (CEST)\n",
    "\n",
    "print(\"\\nWinter time (CET):\", winter_time.strftime('%Y-%m-%d %H:%M:%S %Z%z'))\n",
    "print(\"Summer time (CEST):\", summer_time.strftime('%Y-%m-%d %H:%M:%S %Z%z'))"
   ]
  }
 ],
 "metadata": {
  "kernelspec": {
   "display_name": "Python 3",
   "language": "python",
   "name": "python3"
  },
  "language_info": {
   "codemirror_mode": {
    "name": "ipython",
    "version": 3
   },
   "file_extension": ".py",
   "mimetype": "text/x-python",
   "name": "python",
   "nbconvert_exporter": "python",
   "pygments_lexer": "ipython3",
   "version": "3.12.1"
  }
 },
 "nbformat": 4,
 "nbformat_minor": 5
}
